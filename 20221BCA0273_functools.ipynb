{
  "nbformat": 4,
  "nbformat_minor": 0,
  "metadata": {
    "colab": {
      "provenance": [],
      "authorship_tag": "ABX9TyMEvh/EDyA8gK2W5grVataE",
      "include_colab_link": true
    },
    "kernelspec": {
      "name": "python3",
      "display_name": "Python 3"
    },
    "language_info": {
      "name": "python"
    }
  },
  "cells": [
    {
      "cell_type": "markdown",
      "metadata": {
        "id": "view-in-github",
        "colab_type": "text"
      },
      "source": [
        "<a href=\"https://colab.research.google.com/github/Vijaypuniya/python/blob/main/20221BCA0273_functools.ipynb\" target=\"_parent\"><img src=\"https://colab.research.google.com/assets/colab-badge.svg\" alt=\"Open In Colab\"/></a>"
      ]
    },
    {
      "cell_type": "code",
      "execution_count": null,
      "metadata": {
        "colab": {
          "base_uri": "https://localhost:8080/"
        },
        "id": "g4dTIQdnqY3w",
        "outputId": "3f9fa360-fe5c-4b8a-9167-b07dc399bb12"
      },
      "outputs": [
        {
          "output_type": "stream",
          "name": "stdout",
          "text": [
            "Sum of list1 : 36\n",
            "Maximum of list2 : xyz\n"
          ]
        }
      ],
      "source": [
        "from functools import reduce\n",
        "list1 = [7, 3, 6, 10, 2, 8]\n",
        "sum_of_list1 = reduce(lambda a, b:a + b, list1)\n",
        "\n",
        "list2 = [\"abc\", \"xyz\", \"def\"]\n",
        "max_of_list2 = reduce(lambda a, b:a if a>b else b, list2)\n",
        "\n",
        "print('Sum of list1 :', sum_of_list1)\n",
        "print('Maximum of list2 :', max_of_list2)"
      ]
    },
    {
      "cell_type": "code",
      "source": [
        "from functools import total_ordering\n",
        "\n",
        "@total_ordering\n",
        "class A:\n",
        "\tdef __init__(self, value):\n",
        "\t\tself.value = value\n",
        "\tdef __eq__(self, other):\n",
        "\t\treturn self.value == other.value\n",
        "\tdef __lt__(self, other):\n",
        "\t\treturn self.value > other.value\n",
        "print('8 > 10 :', A(8)>A(10))\n",
        "print('30 < 50 :', A(30)<A(50))\n",
        "print('2 <= 7 :', A(2)<= A(7))\n",
        "print('16 >= 10 :', A(16)>= A(10))\n",
        "print('12 == 12 :', A(12)== A(12))"
      ],
      "metadata": {
        "colab": {
          "base_uri": "https://localhost:8080/"
        },
        "id": "dXV7V3LUYo8c",
        "outputId": "30cd32f4-00f9-4edf-d9b0-7a02f07811f8"
      },
      "execution_count": null,
      "outputs": [
        {
          "output_type": "stream",
          "name": "stdout",
          "text": [
            "8 > 10 : True\n",
            "30 < 50 : False\n",
            "2 <= 7 : False\n",
            "16 >= 10 : False\n",
            "12 == 12 : True\n"
          ]
        }
      ]
    }
  ]
}